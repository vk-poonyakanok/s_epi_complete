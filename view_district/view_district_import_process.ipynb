{
 "cells": [
  {
   "cell_type": "markdown",
   "id": "ff49b9e4",
   "metadata": {},
   "source": [
    "# Importing `-view_district.csv`"
   ]
  },
  {
   "cell_type": "markdown",
   "id": "9ffadd76",
   "metadata": {},
   "source": [
    "The file can be downloaded from https://data.go.th/dataset/view_district"
   ]
  },
  {
   "cell_type": "markdown",
   "id": "c9242f0f",
   "metadata": {},
   "source": [
    "## Introduction\n",
    "This notebook documents the steps taken to successfully import the `-view_district.csv` file, which initially presented challenges due to encoding issues."
   ]
  },
  {
   "cell_type": "markdown",
   "id": "e1584313",
   "metadata": {},
   "source": [
    "## Initial Attempt\n",
    "Tried to load the CSV file using pandas with default encoding."
   ]
  },
  {
   "cell_type": "code",
   "execution_count": 1,
   "id": "9dff6d95",
   "metadata": {},
   "outputs": [
    {
     "name": "stdout",
     "output_type": "stream",
     "text": [
      "Need to detect encoding\n"
     ]
    }
   ],
   "source": [
    "import pandas as pd\n",
    "\n",
    "try:\n",
    "    df = pd.read_csv('-view_district.csv')\n",
    "except UnicodeDecodeError as e:\n",
    "    print('Need to detect encoding')"
   ]
  },
  {
   "cell_type": "markdown",
   "id": "01494965",
   "metadata": {},
   "source": [
    "## Encoding Detection\n",
    "Utilized the `chardet` library to detect the file's encoding."
   ]
  },
  {
   "cell_type": "code",
   "execution_count": 2,
   "id": "9e3e3ef8",
   "metadata": {},
   "outputs": [
    {
     "name": "stdout",
     "output_type": "stream",
     "text": [
      "Detected encoding: Windows-1254\n"
     ]
    }
   ],
   "source": [
    "import chardet\n",
    "\n",
    "with open('-view_district.csv', 'rb') as file:\n",
    "    result = chardet.detect(file.read())\n",
    "    encoding = result['encoding']\n",
    "    print(f'Detected encoding: {encoding}')"
   ]
  },
  {
   "cell_type": "markdown",
   "id": "6f4f1c78",
   "metadata": {},
   "source": [
    "## Adjusting Encoding\n",
    "Attempted to load the file with several encodings, including 'utf-8', 'ISO-8859-11', and 'TIS-620', without success."
   ]
  },
  {
   "cell_type": "code",
   "execution_count": 3,
   "id": "84bb6caa",
   "metadata": {},
   "outputs": [
    {
     "name": "stdout",
     "output_type": "stream",
     "text": [
      "Failed to load with both utf-8 and ISO-8859-11. Error: 'charmap' codec can't decode byte 0xfe in position 28: character maps to <undefined>\n"
     ]
    }
   ],
   "source": [
    "try:\n",
    "    df = pd.read_csv('-view_district.csv', encoding='utf-8')\n",
    "except UnicodeDecodeError:\n",
    "    try:\n",
    "        df = pd.read_csv('-view_district.csv', encoding='ISO-8859-11')\n",
    "    except Exception as e:\n",
    "        print(f'Failed to load with both utf-8 and ISO-8859-11. Error: {e}')"
   ]
  },
  {
   "cell_type": "markdown",
   "id": "a4f76b5c",
   "metadata": {},
   "source": [
    "## Manual Inspection\n",
    "Conducted a manual inspection of the file's bytes to infer the file format."
   ]
  },
  {
   "cell_type": "code",
   "execution_count": 4,
   "id": "59b6f049",
   "metadata": {},
   "outputs": [
    {
     "name": "stdout",
     "output_type": "stream",
     "text": [
      "b'\\xd0\\xcf\\x11\\xe0\\xa1\\xb1\\x1a\\xe1\\x00\\x00\\x00\\x00\\x00\\x00\\x00\\x00\\x00\\x00\\x00\\x00\\x00\\x00\\x00\\x00>\\x00\\x03\\x00\\xfe\\xff\\t\\x00\\x06\\x00\\x00\\x00\\x00\\x00\\x00\\x00\\x00\\x00\\x00\\x00\\x02\\x00\\x00\\x00\\xca\\x00\\x00\\x00\\x00\\x00\\x00\\x00\\x00\\x10\\x00\\x00\\xfe\\xff\\xff\\xff\\x00\\x00\\x00\\x00\\xfe\\xff\\xff\\xff\\x00\\x00\\x00\\x00\\xc8\\x00\\x00\\x00\\xc9\\x00\\x00\\x00\\xff\\xff\\xff\\xff\\xff\\xff\\xff\\xff\\xff\\xff\\xff\\xff\\xff\\xff\\xff\\xff\\xff\\xff\\xff\\xff\\xff\\xff\\xff\\xff\\xff\\xff\\xff\\xff\\xff\\xff\\xff\\xff\\xff\\xff\\xff\\xff\\xff\\xff\\xff\\xff\\xff\\xff\\xff\\xff\\xff\\xff\\xff\\xff\\xff\\xff\\xff\\xff\\xff\\xff\\xff\\xff\\xff\\xff\\xff\\xff\\xff\\xff\\xff\\xff\\xff\\xff\\xff\\xff\\xff\\xff\\xff\\xff\\xff\\xff\\xff\\xff\\xff\\xff\\xff\\xff\\xff\\xff\\xff\\xff\\xff\\xff\\xff\\xff\\xff\\xff\\xff\\xff\\xff\\xff\\xff\\xff\\xff\\xff\\xff\\xff\\xff\\xff\\xff\\xff\\xff\\xff\\xff\\xff\\xff\\xff\\xff\\xff\\xff\\xff\\xff\\xff\\xff\\xff\\xff\\xff\\xff\\xff\\xff\\xff\\xff\\xff\\xff\\xff\\xff\\xff\\xff\\xff\\xff\\xff\\xff\\xff\\xff\\xff\\xff\\xff\\xff\\xff\\xff\\xff\\xff\\xff\\xff\\xff\\xff\\xff\\xff\\xff\\xff\\xff\\xff\\xff\\xff\\xff\\xff\\xff\\xff\\xff\\xff\\xff\\xff\\xff\\xff\\xff\\xff\\xff\\xff\\xff\\xff\\xff\\xff\\xff\\xff\\xff\\xff\\xff\\xff\\xff\\xff\\xff\\xff\\xff\\xff\\xff\\xff\\xff\\xff\\xff\\xff\\xff\\xff\\xff\\xff\\xff\\xff\\xff\\xff\\xff\\xff\\xff\\xff\\xff\\xff\\xff\\xff\\xff\\xff\\xff\\xff\\xff\\xff\\xff\\xff\\xff\\xff\\xff\\xff\\xff\\xff\\xff\\xff\\xff\\xff\\xff\\xff\\xff\\xff\\xff\\xff\\xff\\xff\\xff\\xff\\xff\\xff\\xff\\xff\\xff\\xff\\xff\\xff\\xff\\xff\\xff\\xff\\xff\\xff\\xff\\xff\\xff\\xff\\xff\\xff\\xff\\xff\\xff\\xff\\xff\\xff\\xff\\xff\\xff\\xff\\xff\\xff\\xff\\xff\\xff\\xff\\xff\\xff\\xff\\xff\\xff\\xff\\xff\\xff\\xff\\xff\\xff\\xff\\xff\\xff\\xff\\xff\\xff\\xff\\xff\\xff\\xff\\xff\\xff\\xff\\xff\\xff\\xff\\xff\\xff\\xff\\xff\\xff\\xff\\xff\\xff\\xff\\xff\\xff\\xff\\xff\\xff\\xff\\xff\\xff\\xff\\xff\\xff\\xff\\xff\\xff\\xff\\xff\\xff\\xff\\xff\\xff\\xff\\xff\\xff\\xff\\xff\\xff\\xff\\xff\\xff\\xff\\xff\\xff\\xff\\xff\\xff\\xff\\xff\\xff\\xff\\xff\\xff\\xff\\xff\\xff\\xff\\xff\\xff\\xff\\xff\\xff\\xff\\xff\\xff\\xff\\xff\\xff\\xff\\xff\\xff\\xff\\xff\\xff\\xff\\xff\\xff\\xff\\xff\\xff\\xff\\xff\\xff\\xff\\xff\\xff\\xff\\xff\\xff\\xff\\xff\\xff\\xff\\xff\\xff\\xff\\xff\\xff\\xff\\xff\\xff\\xff\\xff\\xff\\xff\\xff\\xff\\xff\\xff\\xff\\xff\\xff\\xff\\xff\\xff\\xff\\xff\\xff\\xff'\n"
     ]
    }
   ],
   "source": [
    "with open('-view_district.csv', 'rb') as file:\n",
    "    byte_content = file.read(500)  # Read the first 500 bytes for inspection\n",
    "    print(byte_content)"
   ]
  },
  {
   "cell_type": "markdown",
   "id": "46418c88",
   "metadata": {},
   "source": [
    "## Successful Import\n",
    "Discovered the file was in a format used by older Microsoft Office documents, which require `xlrd` library. Successfully imported using `pd.read_excel`."
   ]
  },
  {
   "cell_type": "code",
   "execution_count": 7,
   "id": "95abad4f",
   "metadata": {},
   "outputs": [
    {
     "name": "stdout",
     "output_type": "stream",
     "text": [
      "Success! The file is read as an Excel document.\n"
     ]
    },
    {
     "data": {
      "text/html": [
       "<div>\n",
       "<style scoped>\n",
       "    .dataframe tbody tr th:only-of-type {\n",
       "        vertical-align: middle;\n",
       "    }\n",
       "\n",
       "    .dataframe tbody tr th {\n",
       "        vertical-align: top;\n",
       "    }\n",
       "\n",
       "    .dataframe thead th {\n",
       "        text-align: right;\n",
       "    }\n",
       "</style>\n",
       "<table border=\"1\" class=\"dataframe\">\n",
       "  <thead>\n",
       "    <tr style=\"text-align: right;\">\n",
       "      <th></th>\n",
       "      <th>ชื่ออำเภอ (ภาษาอังกฤษ)</th>\n",
       "      <th>ชื่ออำเภอ (ภาษาไทย)</th>\n",
       "      <th>รหัสอำเภอ</th>\n",
       "    </tr>\n",
       "  </thead>\n",
       "  <tbody>\n",
       "    <tr>\n",
       "      <th>0</th>\n",
       "      <td>Chiang Khong</td>\n",
       "      <td>เชียงของ</td>\n",
       "      <td>57030000</td>\n",
       "    </tr>\n",
       "    <tr>\n",
       "      <th>1</th>\n",
       "      <td>Chiang Khwan</td>\n",
       "      <td>เชียงขวัญ</td>\n",
       "      <td>45180000</td>\n",
       "    </tr>\n",
       "    <tr>\n",
       "      <th>2</th>\n",
       "      <td>Chiang Klang</td>\n",
       "      <td>เชียงกลาง</td>\n",
       "      <td>55090000</td>\n",
       "    </tr>\n",
       "    <tr>\n",
       "      <th>3</th>\n",
       "      <td>Chiang Saen</td>\n",
       "      <td>เชียงแสน</td>\n",
       "      <td>57080000</td>\n",
       "    </tr>\n",
       "    <tr>\n",
       "      <th>4</th>\n",
       "      <td>Chiang Yuen</td>\n",
       "      <td>เชียงยืน</td>\n",
       "      <td>44050000</td>\n",
       "    </tr>\n",
       "  </tbody>\n",
       "</table>\n",
       "</div>"
      ],
      "text/plain": [
       "  ชื่ออำเภอ (ภาษาอังกฤษ) ชื่ออำเภอ (ภาษาไทย)   รหัสอำเภอ\n",
       "0           Chiang Khong             เชียงของ   57030000\n",
       "1           Chiang Khwan            เชียงขวัญ   45180000\n",
       "2           Chiang Klang            เชียงกลาง   55090000\n",
       "3            Chiang Saen             เชียงแสน   57080000\n",
       "4            Chiang Yuen             เชียงยืน   44050000"
      ]
     },
     "execution_count": 7,
     "metadata": {},
     "output_type": "execute_result"
    }
   ],
   "source": [
    "df = pd.read_excel('-view_district.csv')\n",
    "\n",
    "print('Success! The file is read as an Excel document.')\n",
    "df.head()"
   ]
  },
  {
   "cell_type": "markdown",
   "id": "0d872370",
   "metadata": {},
   "source": [
    "## Export"
   ]
  },
  {
   "cell_type": "code",
   "execution_count": null,
   "id": "dc51adf8",
   "metadata": {},
   "outputs": [],
   "source": [
    "# Exporting the DataFrame to a new CSV file with proper encoding for future use\n",
    "df.to_csv('view_district_converted.csv', index=False, encoding='utf-8')"
   ]
  },
  {
   "cell_type": "markdown",
   "id": "347daf14",
   "metadata": {},
   "source": [
    "## Conclusion\n",
    "This notebook outlined the investigative process and methods used to successfully import the `view_district.csv` file, highlighting the importance of understanding file formats and encoding in data handling."
   ]
  }
 ],
 "metadata": {
  "kernelspec": {
   "display_name": "base",
   "language": "python",
   "name": "python3"
  },
  "language_info": {
   "codemirror_mode": {
    "name": "ipython",
    "version": 3
   },
   "file_extension": ".py",
   "mimetype": "text/x-python",
   "name": "python",
   "nbconvert_exporter": "python",
   "pygments_lexer": "ipython3",
   "version": "3.11.7"
  }
 },
 "nbformat": 4,
 "nbformat_minor": 5
}
